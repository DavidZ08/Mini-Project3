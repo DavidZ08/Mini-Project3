{
 "cells": [
  {
   "cell_type": "markdown",
   "metadata": {},
   "source": [
    "# Imports:"
   ]
  },
  {
   "cell_type": "code",
   "execution_count": 1,
   "metadata": {},
   "outputs": [],
   "source": [
    "import gensim\n",
    "from gensim.models.word2vec import Word2Vec\n",
    "import gensim.downloader as api\n",
    "import matplotlib as plt"
   ]
  },
  {
   "cell_type": "markdown",
   "metadata": {},
   "source": [
    "# Available models and datasets"
   ]
  },
  {
   "cell_type": "code",
   "execution_count": 3,
   "metadata": {},
   "outputs": [],
   "source": [
    "available_info = api.info()\n",
    "# print(available_info)"
   ]
  },
  {
   "cell_type": "markdown",
   "metadata": {},
   "source": [
    "# 2 models from different corpora, but same embedding size (Task 2.3.1)"
   ]
  },
  {
   "cell_type": "code",
   "execution_count": null,
   "metadata": {},
   "outputs": [],
   "source": [
    "wikinews_corpus_300 = api.load(\"fasttext-wiki-news-subwords-300\")\n",
    "conceptnet_corpus_300 = api.load(\"conceptnet-numberbatch-17-06-300\")\n",
    "\n",
    "wikinews_model_300 = Word2Vec(wikinews_corpus_300)\n",
    "conceptnet_model_300 = Word2Vec(conceptnet_corpus_300)"
   ]
  },
  {
   "cell_type": "markdown",
   "metadata": {},
   "source": [
    "# 2 models from same corpus, but different embedding sizes (Task 2.3.2)"
   ]
  },
  {
   "cell_type": "code",
   "execution_count": null,
   "metadata": {},
   "outputs": [],
   "source": [
    "glovetwitter_corpus_25 = api.load(\"glove-twitter-25\")\n",
    "glovetwitter_corpus_50 = api.load(\"glove-twitter-50\")\n",
    "\n",
    "glovetwitter_model_25 = Word2Vec(glovetwitter_corpus_25)\n",
    "glovetwitter_model_50 = Word2Vec(glovetwitter_corpus_50)"
   ]
  },
  {
   "cell_type": "markdown",
   "metadata": {},
   "source": [
    "# Calculating statistics and appending to analysis.csv"
   ]
  },
  {
   "cell_type": "code",
   "execution_count": null,
   "metadata": {},
   "outputs": [],
   "source": [
    "#TODO: Brandon, this is where you would practically copy and paste what you did for Task 1, but for every model above. I'm leaving placeholders for the time being.\n",
    "file = open(\"analysis.csv\",\"a\", newline=\"\", encoding = \"utf-8\")\n",
    "\n",
    "wikinews_model_300_name = \"fasttext-wiki-news-subwords-300\"\n",
    "wikinews_model_300_vocabulary_size = 25000\n",
    "wikinews_model_300_vocabulary_correct = 130\n",
    "wikinews_model_300_vocabulary_guess = 24870\n",
    "wikinews_model_300_accuracy = wikinews_model_300_vocabulary_correct / wikinews_model_300_vocabulary_guess\n",
    "file.write(wikinews_model_300_name +\",\"+\"{}\".format(wikinews_model_300_vocabulary_size)+\",\"+\"{}\".format(wikinews_model_300_vocabulary_correct)+\"{}\".format(wikinews_model_300_vocabulary_guess)+\",\"+\"{}\".format(wikinews_model_300_accuracy))\n",
    "\n",
    "conceptnet_model_300_name = \"conceptnet-numberbatch-17-06-300\"\n",
    "conceptnet_model_300_vocabulary_size = 15000\n",
    "conceptnet_model_300_vocabulary_correct = 30\n",
    "conceptnet_model_300_vocabulary_guess = 14970\n",
    "conceptnet_model_300_accuracy = conceptnet_model_300_vocabulary_correct / conceptnet_model_300_vocabulary_guess\n",
    "file.write(conceptnet_model_300_name +\",\"+\"{}\".format(conceptnet_model_300_vocabulary_size)+\",\"+\"{}\".format(conceptnet_model_300_vocabulary_correct)+\"{}\".format(conceptnet_model_300_vocabulary_guess)+\",\"+\"{}\".format(conceptnet_model_300_accuracy))\n",
    "\n",
    "glovetwitter_model_25_name = \"glove-twitter-25\"\n",
    "glovetwitter_model_25_vocabulary_size = 5000\n",
    "glovetwitter_model_25_vocabulary_correct = 10\n",
    "glovetwitter_model_25_vocabulary_guess = 4990\n",
    "glovetwitter_model_25_accuracy = glovetwitter_model_25_vocabulary_correct / glovetwitter_model_25_vocabulary_guess\n",
    "file.write(glovetwitter_model_25_name +\",\"+\"{}\".format(glovetwitter_model_25_vocabulary_size)+\",\"+\"{}\".format(glovetwitter_model_25_vocabulary_correct)+\"{}\".format(glovetwitter_model_25_vocabulary_guess)+\",\"+\"{}\".format(glovetwitter_model_25_accuracy))\n",
    "\n",
    "glovetwitter_model_50_name = \"glove-twitter-50\"\n",
    "glovetwitter_model_50_vocabulary_size = 5000\n",
    "glovetwitter_model_50_vocabulary_correct = 10\n",
    "glovetwitter_model_50_vocabulary_guess = 4990\n",
    "glovetwitter_model_50_accuracy = glovetwitter_model_25_vocabulary_correct / glovetwitter_model_25_vocabulary_guess\n",
    "file.write(glovetwitter_model_50_name +\",\"+\"{}\".format(glovetwitter_model_50_vocabulary_size)+\",\"+\"{}\".format(glovetwitter_model_50_vocabulary_correct)+\"{}\".format(glovetwitter_model_50_vocabulary_guess)+\",\"+\"{}\".format(glovetwitter_model_50_accuracy))\n",
    "file.close()"
   ]
  },
  {
   "cell_type": "markdown",
   "metadata": {},
   "source": [
    "# Drawing graphs for every statistic"
   ]
  },
  {
   "cell_type": "code",
   "execution_count": null,
   "metadata": {},
   "outputs": [],
   "source": [
    "plt.bar([\"wikinews_vocabulary_size\", \"wikinews_vocabulary_correct\", \"wikinews_vocabulary_guess\", \"wikinews_accuracy\"],[wikinews_model_300_vocabulary_size, wikinews_model_300_vocabulary_correct, wikinews_model_300_vocabulary_guess, wikinews_model_300_accuracy])\n",
    "plt.savefig(\"Wikinews_statistics.pdf\")\n",
    "\n",
    "plt.bar([\"conceptnet_vocabulary_size\", \"conceptnet_vocabulary_correct\", \"conceptnet_vocabulary_guess\", \"conceptnet_accuracy\"],[conceptnet_model_300_vocabulary_size, conceptnet_model_300_vocabulary_correct, conceptnet_model_300_vocabulary_guess, conceptnet_model_300_accuracy])\n",
    "plt.savefig(\"Conceptnet_statistics.pdf\")\n",
    "\n",
    "plt.bar([\"glovetwitter_25_vocabulary_size\", \"glovetwitter_25_vocabulary_correct\", \"glovetwitter_25_vocabulary_guess\", \"glovetwitter_25_accuracy\"],[glovetwitter_model_25_vocabulary_size, glovetwitter_model_25_vocabulary_correct, glovetwitter_model_25_vocabulary_guess, glovetwitter_model_25_accuracy])\n",
    "plt.savefig(\"Glovetwitter_25_statistics.pdf\")\n",
    "\n",
    "plt.bar([\"glovetwitter_50_vocabulary_size\", \"glovetwitter_50_vocabulary_correct\", \"glovetwitter_50_vocabulary_guess\", \"glovetwitter_50_accuracy\"],[glovetwitter_model_50_vocabulary_size, glovetwitter_model_50_vocabulary_correct, glovetwitter_model_50_vocabulary_guess, glovetwitter_model_50_accuracy])\n",
    "plt.savefig(\"Glovetwitter_50_statistics.pdf\")\n",
    "# Mostly done here, waiting on human gold standard"
   ]
  }
 ],
 "metadata": {
  "interpreter": {
   "hash": "5d6f8a830624f0388fba043bda1ab3394ab2d7a44fb0c72262b70fc45ad485ff"
  },
  "kernelspec": {
   "display_name": "Python 3.8.12 64-bit",
   "language": "python",
   "name": "python3"
  },
  "language_info": {
   "codemirror_mode": {
    "name": "ipython",
    "version": 3
   },
   "file_extension": ".py",
   "mimetype": "text/x-python",
   "name": "python",
   "nbconvert_exporter": "python",
   "pygments_lexer": "ipython3",
   "version": "3.8.8"
  },
  "orig_nbformat": 4
 },
 "nbformat": 4,
 "nbformat_minor": 2
}
