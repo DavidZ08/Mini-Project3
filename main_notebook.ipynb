{
    "cells": [
     {
      "cell_type": "markdown",
      "metadata": {},
      "source": [
       "# Imports:"
      ]
     },
     {
      "cell_type": "code",
      "execution_count": 1,
      "metadata": {},
      "outputs": [
       {
        "name": "stderr",
        "output_type": "stream",
        "text": [
         "C:\\Users\\Davmo\\anaconda3\\lib\\site-packages\\gensim\\similarities\\__init__.py:15: UserWarning: The gensim.similarities.levenshtein submodule is disabled, because the optional Levenshtein package <https://pypi.org/project/python-Levenshtein/> is unavailable. Install Levenhstein (e.g. `pip install python-Levenshtein`) to suppress this warning.\n",
         "  warnings.warn(msg)\n"
        ]
       }
      ],
      "source": [
       "import gensim.downloader\n",
       "from gensim.models.word2vec import LineSentence\n",
       "from gensim.similarities import WordEmbeddingSimilarityIndex\n",
       "from gensim.test.utils import datapath\n",
       "from gensim.models import Word2Vec, KeyedVectors\n",
       "from gensim.corpora.csvcorpus import CsvCorpus\n",
       "import pandas as pd\n",
       "import csv\n",
       "import os\n",
       "import gensim\n",
       "from gensim.models.word2vec import Word2Vec\n",
       "import gensim.downloader as api\n",
       "import matplotlib.pyplot as plt\n",
       "import numpy as np\n",
       "from csv import writer as writer"
      ]
     },
     {
      "cell_type": "markdown",
      "metadata": {},
      "source": [
       "# Human Gold standard"
      ]
     },
     {
      "cell_type": "code",
      "execution_count": 2,
      "metadata": {},
      "outputs": [],
      "source": [
       "synonyms = pd.read_csv(\"synonyms.csv\")"
      ]
     },
     {
      "cell_type": "markdown",
      "metadata": {},
      "source": [
       "# Model processing"
      ]
     },
     {
      "cell_type": "code",
      "execution_count": 5,
      "metadata": {},
      "outputs": [],
      "source": [
       "# Evaluates pre-trained model's ability to correctly guess the given corpus (in this case synonyms.csv) and returns a pandas dataframe\n",
       "# containing the question word, the correct answer, the model's guess and whether the guess is correct or wrong\n",
       "\n",
       "def model_evaluation(model, corpus):\n",
       "\n",
       "    # Initializes columns for dataframe\n",
       "    question_col, answer_col, guess_col, result_col = [], [], [], []\n",
       "\n",
       "    # vecotrizes the similarity function so it can be applied across the numpy arrays comparing it with the four choices of words\n",
       "    check_similarity = np.vectorize(model.similarity)\n",
       "\n",
       "    # Iterates through each row of the corpus\n",
       "    for index, question in corpus.iterrows():\n",
       "\n",
       "        # extracts the question word, answer word, and choice words\n",
       "        question_word, answer_word, choice_words = question[0], question[1], np.array(question)[2:]\n",
       "\n",
       "        try:\n",
       "            # checks if no choice words are present, if no choice words available - goes to except\n",
       "            if not pd.isnull(choice_words.all()) == 0:\n",
       "                raise KeyError\n",
       "           \n",
       "            # gets an array of the cosine similarities between the question word and the choice words\n",
       "            # and selects word with the highest value\n",
       "            similarities = check_similarity(question_word, choice_words)\n",
       "            guess_word = choice_words[similarities.argmax()]\n",
       "            \n",
       "            # adds question word, answer word, and guess word to their respective column\n",
       "            question_col.append(question_word)\n",
       "            answer_col.append(answer_word)\n",
       "            guess_col.append(guess_word)\n",
       "\n",
       "            # adds correct/wrong to result column\n",
       "            result_col.append('Correct') if guess_word == answer_word else result_col.append('Wrong')\n",
       "            \n",
       "        except KeyError:\n",
       "            # adds question word and answer word to their respective column and adds 'N/A' to guess column as well as 'Guess' to result column\n",
       "            # due to the fact that either the question word and/or all the choice words are not present in the model\n",
       "            question_col.append(question_word)\n",
       "            answer_col.append(answer_word)\n",
       "            guess_col.append('N/A')\n",
       "            result_col.append('Guess')\n",
       "    \n",
       "    return pd.DataFrame({'question word' : question_col, 'answer word': answer_col, 'guess word': guess_col, 'result': result_col})"
      ]
     },
     {
      "cell_type": "markdown",
      "metadata": {},
      "source": [
       "# Statistics"
      ]
     },
     {
      "cell_type": "code",
      "execution_count": 6,
      "metadata": {},
      "outputs": [],
      "source": [
       "# Gets statistics of correct and wrong guesses from evaluated model\n",
       "def get_stats(model_data):\n",
       "    # extracts the result column from the model_data and counts the amount of correct and wrong guesses\n",
       "    results = pd.value_counts(model_data['result']) \n",
       "    correct_count = results['Correct'] if results.get('Correct') else 0  \n",
       "    wrong_count = results['Wrong'] if results.get('Correct') else 0\n",
       "    guess_count = results['Guess'] if results.get('Correct') else 0\n",
       "    v_statistic= correct_count+wrong_count+guess_count\n",
       "    accuracy = correct_count / v_statistic if v_statistic != 0 else 0\n",
       "    return correct_count, v_statistic, accuracy"
      ]
     },
     {
      "cell_type": "markdown",
      "metadata": {},
      "source": [
       "# Task 2.2"
      ]
     },
     {
      "cell_type": "code",
      "execution_count": 2,
      "metadata": {},
      "outputs": [],
      "source": [
       "google_news = api.load('word2vec-google-news-300')\n",
       "synonyms = pd.read_csv('synonyms.csv')"
      ]
     },
     {
      "cell_type": "code",
      "execution_count": 7,
      "metadata": {},
      "outputs": [],
      "source": [
       "# Evaluates pre-trained model's ability to correctly guess the given corpus (in this case synonyms.csv) and returns a pandas dataframe\n",
       "# containing the question word, the correct answer, the model's guess and whether the guess is correct or wrong\n",
       "\n",
       "def model_evaluation(model, corpus):\n",
       "\n",
       "    # Initializes columns for dataframe\n",
       "    question_col, answer_col, guess_col, result_col = [], [], [], []\n",
       "\n",
       "    # vecotrizes the similarity function so it can be applied across the numpy arrays comparing it with the four choices of words\n",
       "    check_similarity = np.vectorize(model.similarity)\n",
       "\n",
       "    # Iterates through each row of the corpus\n",
       "    for index, question in corpus.iterrows():\n",
       "\n",
       "        # extracts the question word, answer word, and choice words\n",
       "        question_word, answer_word, choice_words = question[0], question[1], np.array(question)[2:]\n",
       "\n",
       "        try:\n",
       "            # checks if no choice words are present, if no choice words available - goes to except\n",
       "            if not pd.isnull(choice_words.all()) == 0:\n",
       "                raise KeyError\n",
       "           \n",
       "            # gets an array of the cosine similarities between the question word and the choice words\n",
       "            # and selects word with the highest value\n",
       "            similarities = check_similarity(question_word, choice_words)\n",
       "            guess_word = choice_words[similarities.argmax()]\n",
       "            \n",
       "            # adds question word, answer word, and guess word to their respective column\n",
       "            question_col.append(question_word)\n",
       "            answer_col.append(answer_word)\n",
       "            guess_col.append(guess_word)\n",
       "\n",
       "            # adds correct/wrong to result column\n",
       "            result_col.append('Correct') if guess_word == answer_word else result_col.append('Wrong')\n",
       "            \n",
       "        except KeyError:\n",
       "            # adds question word and answer word to their respective column and adds 'N/A' to guess column as well as 'Guess' to result column\n",
       "            # due to the fact that either the question word and/or all the choice words are not present in the model\n",
       "            question_col.append(question_word)\n",
       "            answer_col.append(answer_word)\n",
       "            guess_col.append('N/A')\n",
       "            result_col.append('Guess')\n",
       "    \n",
       "    return pd.DataFrame({'question word' : question_col, 'answer word': answer_col, 'guess word': guess_col, 'result': result_col})\n",
       "\n",
       "\n",
       "# Gets statistics of correct and wrong guesses from evaluated model\n",
       "def get_stats(model_data):\n",
       "    # extracts the result column from the model_data and counts the amount of correct and wrong guesses\n",
       "    results = pd.value_counts(model_data['result']) \n",
       "    correct_count = results['Correct'] if results.get('Correct') else 0  \n",
       "    wrong_count = results['Wrong'] if results.get('Correct') else 0\n",
       "    guess_count = results['Guess'] if results.get('Correct') else 0\n",
       "    v_statistic= correct_count+wrong_count+guess_count\n",
       "    accuracy = correct_count / v_statistic if v_statistic != 0 else 0\n",
       "    return correct_count, v_statistic, accuracy\n",
       "\n"
      ]
     },
     {
      "cell_type": "markdown",
      "metadata": {},
      "source": [
       "# Calculating Statistics and Appending to analysis.csv and google-news-300.csv"
      ]
     },
     {
      "cell_type": "code",
      "execution_count": 6,
      "metadata": {},
      "outputs": [],
      "source": [
       "google_news_results = model_evaluation(google_news, synonyms)\n",
       "\n",
       "get_stats(google_news_results)\n",
       "\n",
       "analysis_csv= open(\"analysis.csv\",\"a\")\n",
       "my_writer = writer(analysis_csv)\n",
       "googlenews_model_300_name = \"google-news-300\"\n",
       "googlenews_model_300_name_doc = googlenews_model_300_name + \"-details.csv\"\n",
       "googlenews_model_300_vocabulary_size = len(google_news)\n",
       "googlenews_dataframe = model_evaluation(google_news, synonyms)\n",
       "googlenews_csv = open(googlenews_model_300_name_doc,\"a\")\n",
       "googlenews_dataframe.to_csv(path_or_buf=googlenews_csv, index=False)\n",
       "googlenews_model_300_correct, googlenews_model_300_v_statistic, googlenews_model_300_accuracy = get_stats(googlenews_dataframe)\n",
       "googlenews_model_300_list = [googlenews_model_300_name, googlenews_model_300_vocabulary_size, googlenews_model_300_correct, googlenews_model_300_v_statistic, googlenews_model_300_accuracy]\n",
       "my_writer.writerow(googlenews_model_300_list)\n",
       "analysis_csv.close()"
      ]
     },
     {
      "cell_type": "markdown",
      "metadata": {},
      "source": [
       "# Available models and datasets"
      ]
     },
     {
      "cell_type": "code",
      "execution_count": null,
      "metadata": {},
      "outputs": [],
      "source": [
       "available_info = api.info()\n",
       "# print(available_info)"
      ]
     },
     {
      "cell_type": "markdown",
      "metadata": {},
      "source": [
       "# 2 models from different corpora, but same embedding size (Task 2.3.1)"
      ]
     },
     {
      "cell_type": "code",
      "execution_count": 8,
      "metadata": {},
      "outputs": [],
      "source": [
       "wikinews_corpus_300 = api.load(\"fasttext-wiki-news-subwords-300\")\n",
       "conceptnet_corpus_300 = api.load(\"conceptnet-numberbatch-17-06-300\")"
      ]
     },
     {
      "cell_type": "markdown",
      "metadata": {},
      "source": [
       "# 2 models from same corpus, but different embedding sizes (Task 2.3.2)"
      ]
     },
     {
      "cell_type": "code",
   
      "execution_count": 9,
      "metadata": {},
      "outputs": [],
      "source": [
       "glovetwitter_corpus_25 = api.load(\"glove-twitter-25\")\n",
       "glovetwitter_corpus_50 = api.load(\"glove-twitter-50\")"
      ]
     },
     {
      "cell_type": "markdown",
      "metadata": {},
      "source": [
       "# Calculating statistics and appending to analysis.csv or to [...]-details.csv"
      ]
     },
     {
      "cell_type": "code",
      "execution_count": 14,
      "metadata": {},
      "outputs": [
       {
        "data": {
         "text/plain": [
          "39"
         ]
        },
        "execution_count": 14,
        "metadata": {},
        "output_type": "execute_result"
       }
      ],
      "source": [
       "analysis_csv= open(\"analysis.csv\",\"a\")\n",
       "my_writer = writer(analysis_csv)\n",
       "wikinews_model_300_name = \"fasttext-wiki-news-subwords-300\"\n",
       "wikinews_model_300_name_doc = wikinews_model_300_name + \"-details.csv\"\n",
       "wikinews_model_300_vocabulary_size = len(wikinews_corpus_300)\n",
       "wikinews_dataframe = model_evaluation(wikinews_corpus_300, synonyms)\n",
       "wikinews_csv = open(wikinews_model_300_name_doc,\"a\")\n",
       "wikinews_dataframe.to_csv(path_or_buf=\"C:\\\\Users\\\\Davmo\\\\Documents\\\\Github repos\\\\Mini-Project3\\\\fasttext-wiki-news-subwords-300-details.csv\", index=False)\n",
       "wikinews_model_300_correct, wikinews_model_300_v_statistic, wikinews_model_300_accuracy = get_stats(wikinews_dataframe)\n",
       "wikinews_model_300_list = [wikinews_model_300_name, wikinews_model_300_vocabulary_size, wikinews_model_300_correct, wikinews_model_300_v_statistic, wikinews_model_300_accuracy]\n",
       "my_writer.writerow(wikinews_model_300_list)\n",
       "\n",
       "conceptnet_model_300_name = \"conceptnet-numberbatch-17-06-300\"\n",
       "conceptnet_model_300_name_doc = conceptnet_model_300_name + \"-details.csv\"\n",
       "conceptnet_model_300_vocabulary_size = len(conceptnet_corpus_300)\n",
       "conceptnet_dataframe = model_evaluation(conceptnet_corpus_300, synonyms)\n",
       "concepnet_csv = open(conceptnet_model_300_name_doc, \"a\")\n",
       "conceptnet_dataframe.to_csv(path_or_buf=\"C:\\\\Users\\\\Davmo\\\\Documents\\\\Github repos\\\\Mini-Project3\\\\conceptnet-numberbatch-17-06-300-details.csv\", index=False)\n",
       "conceptnet_model_300_correct, conceptnet_model_300_v_statistic, conceptnet_model_300_accuracy = get_stats(conceptnet_dataframe)\n",
       "conceptnet_model_300_list = [conceptnet_model_300_name, conceptnet_model_300_vocabulary_size, conceptnet_model_300_correct, conceptnet_model_300_v_statistic, conceptnet_model_300_accuracy]\n",
       "my_writer.writerow(conceptnet_model_300_list)\n",
       "\n",
       "glovetwitter_model_25_name = \"glove-twitter-25\"\n",
       "glovetwitter_model_25_name_doc = glovetwitter_model_25_name + \"-details.csv\"\n",
       "glovetwitter_model_25_vocabulary_size = len(glovetwitter_corpus_25)\n",
       "glovetwitter_25_dataframe = model_evaluation(glovetwitter_corpus_25, synonyms)\n",
       "glovetwitter_25_csv = open(glovetwitter_model_25_name_doc,\"a\")\n",
       "glovetwitter_25_dataframe.to_csv(path_or_buf=\"C:\\\\Users\\\\Davmo\\\\Documents\\\\Github repos\\\\Mini-Project3\\\\glove-twitter-25-details.csv\", index=False)\n",
       "glovetwitter_model_25_correct, glovetwitter_model_25_v_statistic, glovetwitter_model_25_accuracy = get_stats(glovetwitter_25_dataframe)\n",
       "glovetwitter_model_25_list = [glovetwitter_model_25_name, glovetwitter_model_25_vocabulary_size, glovetwitter_model_25_correct, glovetwitter_model_25_v_statistic, glovetwitter_model_25_accuracy]\n",
       "my_writer.writerow(glovetwitter_model_25_list)\n",
       "\n",
       "glovetwitter_model_50_name = \"glove-twitter-50\"\n",
       "glovetwitter_model_50_name_doc = glovetwitter_model_50_name + \"-details.csv\"\n",
       "glovetwitter_model_50_vocabulary_size = len(glovetwitter_corpus_50)\n",
       "glovetwitter_50_dataframe = model_evaluation(glovetwitter_corpus_50, synonyms)\n",
       "glovetwitter_50_csv = open(glovetwitter_model_50_name_doc,\"a\")\n",
   
       "glovetwitter_50_dataframe.to_csv(path_or_buf=\"C:\\\\Users\\\\Davmo\\\\Documents\\\\Github repos\\\\Mini-Project3\\\\glove-twitter-50-details.csv\", index=False)\n",
       "glovetwitter_model_50_correct, glovetwitter_model_50_v_statistic, glovetwitter_model_50_accuracy = get_stats(glovetwitter_50_dataframe)\n",
       "glovetwitter_model_50_list = [glovetwitter_model_50_name, glovetwitter_model_50_vocabulary_size, glovetwitter_model_50_correct, glovetwitter_model_50_v_statistic, glovetwitter_model_50_accuracy]\n",
       "my_writer.writerow(glovetwitter_model_50_list)",
       "analysis_csv.close()"
      ]
     },
     {
      "cell_type": "markdown",
      "metadata": {},
      "source": [
       "# Drawing graphs for every statistic"
      ]
     },
     {
      "cell_type": "code",
      "execution_count": 25,
      "metadata": {},
      "outputs": [
       {
        "data": {
         "image/png": "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",
         "text/plain": [
          "<Figure size 432x288 with 1 Axes>"
         ]
        },
        "metadata": {
         "needs_background": "light"
        },
        "output_type": "display_data"
       }
      ],
      "source": [
       "#Accuracy here is multiplied by 100 because it gives relatively small numbers e.g. 0.91, it makes hard to visualize\n",
       "plt.bar([\"correct\", \"guesses\", \"accuracy (in %)\"],[wikinews_model_300_correct, wikinews_model_300_v_statistic, wikinews_model_300_accuracy*100])\n",
       "plt.savefig(\"Wikinews_statistics.pdf\")\n",
       "\n",
       "plt.bar([\"correct\", \"guesses\", \"accuracy (in %)\"],[conceptnet_model_300_correct, conceptnet_model_300_v_statistic, conceptnet_model_300_accuracy*100])\n",
       "plt.savefig(\"Conceptnet_statistics.pdf\")\n",
       "\n",
       "plt.bar([\"correct\", \"guesses\", \"accuracy (in %)\"],[glovetwitter_model_25_correct ,glovetwitter_model_25_v_statistic, glovetwitter_model_25_accuracy*100])\n",
       "plt.savefig(\"Glovetwitter_25_statistics.pdf\")\n",
       "\n",
       "plt.bar([\"correct\", \"guesses\", \"accuracy (in %)\"],[glovetwitter_model_50_correct, glovetwitter_model_50_v_statistic, glovetwitter_model_50_accuracy*100])\n",
       "plt.savefig(\"Glovetwitter_50_statistics.pdf\")"
      ]
     }
    ],
    {
    "metadata": {
     "interpreter": {
      "hash": "5d6f8a830624f0388fba043bda1ab3394ab2d7a44fb0c72262b70fc45ad485ff"
     },
     "kernelspec": {
      "display_name": "Python 3.8.12 64-bit",
      "language": "python",
      "name": "python3"
     },
     "language_info": {
      "codemirror_mode": {
       "name": "ipython",
       "version": 3
      },
      "file_extension": ".py",
      "mimetype": "text/x-python",
      "name": "python",
      "nbconvert_exporter": "python",
      "pygments_lexer": "ipython3",
      "version": "3.8.5"
     },
     "orig_nbformat": 4
    },
    "nbformat": 4,
    "nbformat_minor": 2
   }
}
   
