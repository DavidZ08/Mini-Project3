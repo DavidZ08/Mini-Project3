{
 "cells": [
  {
   "cell_type": "markdown",
   "id": "5cc97397",
   "metadata": {},
   "source": [
    "# Task 1 - 2.2"
   ]
  },
  {
   "cell_type": "markdown",
   "id": "b7f3bd89",
   "metadata": {},
   "source": [
    "import gensim.downloader\n",
    "from gensim.models.word2vec import LineSentence\n",
    "from gensim.similarities import WordEmbeddingSimilarityIndex\n",
    "from gensim.test.utils import datapath\n",
    "from gensim.models import Word2Vec, KeyedVectors\n",
    "from gensim.corpora.csvcorpus import CsvCorpus\n",
    "import pandas as pd"
   ]
  },
  {
   "cell_type": "code",
   "execution_count": null,
   "id": "489fc093",
   "metadata": {},
   "outputs": [],
   "source": [
    "google_news = gensim.downloader.load('word2vec-google-news-300')"
   ]
  },
  {
   "cell_type": "code",
   "execution_count": null,
   "id": "a274f79a",
   "metadata": {},
   "outputs": [],
   "source": [
    "synonyms = pd.read_csv('synonyms.csv')"
   ]
  },
  {
   "cell_type": "code",
   "execution_count": null,
   "id": "18973f01",
   "metadata": {},
   "outputs": [],
   "source": [
    "for index, question in synonyms.iterrows():\n",
    "    try:\n",
    "        similarities = [google_news.similarity(question[0], word) for word in question if word is not question[0] and word is not question[1]]\n",
    "        max_value = max(similarities)\n",
    "        max_index = similarities.index(max_value)\n",
    "        \n",
    "        zipped_list = zip(question[2:], similarities)\n",
    "        word_score_dict = dict(zipped_list)\n",
    "        \n",
    "        if question[max_index+2] == question[1]:\n",
    "            print('----- ' + str(index) + ' = True------')\n",
    "            print('Question Word: ' + question[0])\n",
    "            print('Class Answer: ' + question[1])\n",
    "            print('Model Answer: ' + question[max_index+2])\n",
    "            print()\n",
    "            print(word_score_dict)\n",
    "            print('\\n')\n",
    "            \n",
    "        else:\n",
    "            print('----- ' + str(index) + ' = False------')\n",
    "            print('Question Word: ' + question[0])\n",
    "            print('Class Answer: ' + question[1])\n",
    "            print('Model Answer: ' + question[max_index+2])\n",
    "            print()\n",
    "            print(word_score_dict)\n",
    "            print('\\n')\n",
    "            \n",
    "    except KeyError:\n",
    "        print('----- ' + str(index) + ' = Not Available------')\n"
   ]
  }
 ],
 "metadata": {
  "kernelspec": {
   "display_name": "Python 3 (ipykernel)",
   "language": "python",
   "name": "python3"
  },
  "language_info": {
   "codemirror_mode": {
    "name": "ipython",
    "version": 3
   },
   "file_extension": ".py",
   "mimetype": "text/x-python",
   "name": "python",
   "nbconvert_exporter": "python",
   "pygments_lexer": "ipython3",
   "version": "3.8.5"
  }
 },
 "nbformat": 4,
 "nbformat_minor": 5
}
