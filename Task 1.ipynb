{
 "cells": [
  {
   "cell_type": "code",
   "execution_count": null,
   "id": "888b82ff",
   "metadata": {
    "collapsed": true
   },
   "outputs": [],
   "source": [
    "import gensim.downloader as api\n",
    "w2v = api.load(\"word2vec-google-news-300\", return_path=True"
   ]
  },
  {
   "cell_type": "code",
   "execution_count": 47,
   "id": "fb808e69",
   "metadata": {},
   "outputs": [],
   "source": [
    "from gensim.models.word2vec import LineSentence\n",
    "from gensim.similarities import Similarity\n",
    "from gensim.test.utils import datapath\n",
    "from gensim.models import Word2Vec"
   ]
  },
  {
   "cell_type": "code",
   "execution_count": null,
   "id": "cb75fa5d",
   "metadata": {
    "collapsed": true
   },
   "outputs": [],
   "source": [
    "sentence = LineSentence('test-corpus.txt')\n",
    "\n",
    "for s in sentence:\n",
    "    print(s)"
   ]
  },
  {
   "cell_type": "code",
   "execution_count": null,
   "id": "61bb4762",
   "metadata": {},
   "outputs": [],
   "source": [
    "model = Word2Vec(sentences = sentence, min_count=1, window = 10)\n",
    "model.save('test.model')\n",
    "\n",
    "print(model)"
   ]
  },
  {
   "cell_type": "code",
   "execution_count": null,
   "id": "ec195f59",
   "metadata": {},
   "outputs": [],
   "source": [
    "model.train([[\"capitalism\", \"regulation\", \"Marx\", \"\"]], total_examples=6, epochs=2)"
   ]
  },
  {
   "cell_type": "code",
   "execution_count": null,
   "id": "9b105ed6",
   "metadata": {
    "collapsed": true
   },
   "outputs": [],
   "source": [
    "vector = model.wv\n",
    "\n"
   ]
  },
  {
   "cell_type": "code",
   "execution_count": 110,
   "id": "a6a74616",
   "metadata": {
    "collapsed": true
   },
   "outputs": [
    {
     "name": "stdout",
     "output_type": "stream",
     "text": [
      "[('ways', 0.2840665578842163), ('inequality', 0.2685161232948303), ('capital', 0.24620647728443146), ('fact,', 0.2461484670639038), ('name:', 0.24129842221736908), ('powerful', 0.23913782835006714), ('among', 0.23114795982837677), ('asset,', 0.21806392073631287), ('particularly', 0.21164841949939728), ('additional', 0.2107459306716919)]\n"
     ]
    }
   ],
   "source": [
    "sims = model.wv.most_similar('slowly', topn=10)  # get other similar words\n",
    "\n",
    "print(sims)"
   ]
  },
  {
   "cell_type": "code",
   "execution_count": null,
   "id": "9e641a2f",
   "metadata": {},
   "outputs": [],
   "source": []
  }
 ],
 "metadata": {
  "kernelspec": {
   "display_name": "Python 3 (ipykernel)",
   "language": "python",
   "name": "python3"
  },
  "language_info": {
   "codemirror_mode": {
    "name": "ipython",
    "version": 3
   },
   "file_extension": ".py",
   "mimetype": "text/x-python",
   "name": "python",
   "nbconvert_exporter": "python",
   "pygments_lexer": "ipython3",
   "version": "3.8.5"
  }
 },
 "nbformat": 4,
 "nbformat_minor": 5
}
